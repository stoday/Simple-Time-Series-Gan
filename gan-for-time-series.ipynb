{
 "cells": [
  {
   "cell_type": "markdown",
   "metadata": {},
   "source": [
    "# 實驗"
   ]
  },
  {
   "cell_type": "markdown",
   "metadata": {},
   "source": [
    "要做一個可以逼近 $y=3x^2+1$ 函數的類神經網路"
   ]
  },
  {
   "cell_type": "code",
   "execution_count": 6,
   "metadata": {},
   "outputs": [],
   "source": [
    "import numpy as np\n",
    "import pandas as pd\n",
    "from matplotlib import pyplot as plt\n",
    "\n",
    "import tensorflow as tf\n",
    "from tensorflow import keras\n",
    "from tensorflow.keras import Sequential, Input\n",
    "from tensorflow.keras.layers import Dense, Conv2D, MaxPooling2D\n"
   ]
  },
  {
   "cell_type": "markdown",
   "metadata": {},
   "source": [
    "## 要生成的函數"
   ]
  },
  {
   "cell_type": "code",
   "execution_count": 7,
   "metadata": {},
   "outputs": [
    {
     "data": {
      "image/png": "[encoded data removed]",
      "text/plain": [
       "<Figure size 432x288 with 1 Axes>"
      ]
     },
     "metadata": {
      "needs_background": "light"
     },
     "output_type": "display_data"
    }
   ],
   "source": [
    "plt.figure()\n",
    "x = np.linspace(-3, 3, 100)\n",
    "y = lambda x: 3 * x ** 2 + 1\n",
    "plt.plot(x, y(x))\n",
    "plt.grid()\n",
    "plt.show()\n"
   ]
  },
  {
   "cell_type": "markdown",
   "metadata": {},
   "source": [
    "## 產生資料"
   ]
  },
  {
   "cell_type": "code",
   "execution_count": 8,
   "metadata": {},
   "outputs": [
    {
     "data": {
      "image/png": "[encoded data removed]",
      "text/plain": [
       "<Figure size 432x288 with 1 Axes>"
      ]
     },
     "metadata": {
      "needs_background": "light"
     },
     "output_type": "display_data"
    }
   ],
   "source": [
    "y_noise = y(x) + np.random.randn(100)\n",
    "plt.plot(x, y_noise, '.')\n",
    "plt.plot(x, y(x), 'r-')\n",
    "plt.grid()\n",
    "plt.show()\n"
   ]
  },
  {
   "cell_type": "markdown",
   "metadata": {},
   "source": [
    "## 建一個模型\n",
    "輸入一個 $x$，產生一個 $y$。兩者的關係可寫成下式\n",
    "$$ y=ax^2+b $$"
   ]
  },
  {
   "cell_type": "markdown",
   "metadata": {},
   "source": [
    "先建一層 $y=ax+b$"
   ]
  },
  {
   "cell_type": "code",
   "execution_count": 9,
   "metadata": {},
   "outputs": [],
   "source": [
    "# y = ax + b\n",
    "class PolyLayer(keras.layers.Layer):\n",
    "    def __init__(self, units=1, input_dim=1, name=None):\n",
    "        super(PolyLayer, self).__init__(name=name)\n",
    "        a_init = tf.random_normal_initializer()\n",
    "        \n",
    "        self.a = tf.Variable(\n",
    "            initial_value=a_init(shape=(input_dim, units), \n",
    "                                 dtype='float32'),\n",
    "            name='variable_a',\n",
    "            trainable=True,\n",
    "        )\n",
    "        \n",
    "        b_init = tf.random_normal_initializer()\n",
    "        self.b = tf.Variable(\n",
    "            initial_value=b_init(shape=(units,), \n",
    "                                 dtype='float32'), \n",
    "            name='variable_b',\n",
    "            trainable=True\n",
    "        )\n",
    "\n",
    "    def call(self, inputs):\n",
    "        output = tf.multiply(tf.pow(inputs, 2), self.a) + self.b\n",
    "        return output\n"
   ]
  },
  {
   "cell_type": "code",
   "execution_count": 31,
   "metadata": {},
   "outputs": [
    {
     "name": "stdout",
     "output_type": "stream",
     "text": [
      "tf.Tensor([[-0.13452211]], shape=(1, 1), dtype=float32)\n",
      "['variable_a:0', 'variable_b:0']\n",
      "[array([[-0.0644884]], dtype=float32), array([-0.07003372], dtype=float32)]\n"
     ]
    }
   ],
   "source": [
    "# 驗證自建的層 PolyLayer\n",
    "\n",
    "layer = PolyLayer()\n",
    "test_input = [[1.0]]\n",
    "print(layer(test_input))\n",
    "print([var.name for var in layer.trainable_variables])\n",
    "print(layer.get_weights())\n"
   ]
  },
  {
   "cell_type": "code",
   "execution_count": 32,
   "metadata": {},
   "outputs": [
    {
     "name": "stdout",
     "output_type": "stream",
     "text": [
      "Model: \"Try\"\n",
      "_________________________________________________________________\n",
      "Layer (type)                 Output Shape              Param #   \n",
      "=================================================================\n",
      "test (PolyLayer)             (None, 1, 1)              2         \n",
      "=================================================================\n",
      "Total params: 2\n",
      "Trainable params: 2\n",
      "Non-trainable params: 0\n",
      "_________________________________________________________________\n"
     ]
    }
   ],
   "source": [
    "model = Sequential(name='Try')\n",
    "model.add(Input(shape=(1, 1)))\n",
    "model.add(PolyLayer(1, name='test'))\n",
    "\n",
    "model.summary()        \n"
   ]
  },
  {
   "cell_type": "code",
   "execution_count": 35,
   "metadata": {},
   "outputs": [],
   "source": [
    "# def recall(y_true, y_pred):\n",
    "#     y_true = K.ones_like(y_true) \n",
    "#     true_positives = K.sum(K.round(K.clip(y_true * y_pred, 0, 1)))\n",
    "#     all_positives = K.sum(K.round(K.clip(y_true, 0, 1)))\n",
    "    \n",
    "#     recall = true_positives / (all_positives + K.epsilon())\n",
    "#     return recall\n",
    "\n",
    "def custom_loss_function(y_true, y_pred):\n",
    "    squared_difference = tf.square(y_true[0:2] - y_pred[0:2])\n",
    "    return tf.reduce_mean(squared_difference, axis=-1)\n",
    "\n",
    "# model.compile(optimizer='adam', loss=custom_loss_function)"
   ]
  },
  {
   "cell_type": "code",
   "execution_count": 36,
   "metadata": {},
   "outputs": [],
   "source": [
    "# model.compile(loss='MeanAbsoluteError',\n",
    "#               optimizer='sgd',\n",
    "#               metrics=['mse', recall])\n",
    "\n",
    "model.compile(loss=custom_loss_function,\n",
    "              optimizer='sgd',\n",
    "              metrics=['mse'])"
   ]
  },
  {
   "cell_type": "code",
   "execution_count": 49,
   "metadata": {},
   "outputs": [
    {
     "name": "stdout",
     "output_type": "stream",
     "text": [
      "Epoch 1/10\n",
      "1/1 [==============================] - 0s 2ms/step - loss: 2.1674 - mse: 1.0082\n",
      "Epoch 2/10\n",
      "1/1 [==============================] - 0s 1ms/step - loss: 2.0049 - mse: 1.2028\n",
      "Epoch 3/10\n",
      "1/1 [==============================] - 0s 2ms/step - loss: 1.0995 - mse: 0.9016\n",
      "Epoch 4/10\n",
      "1/1 [==============================] - 0s 1ms/step - loss: 0.0079 - mse: 0.8614\n",
      "Epoch 5/10\n",
      "1/1 [==============================] - 0s 1ms/step - loss: 1.1398 - mse: 0.8589\n",
      "Epoch 6/10\n",
      "1/1 [==============================] - 0s 982us/step - loss: 0.8764 - mse: 0.8600\n",
      "Epoch 7/10\n",
      "1/1 [==============================] - 0s 1ms/step - loss: 0.0386 - mse: 0.8884\n",
      "Epoch 8/10\n",
      "1/1 [==============================] - 0s 1ms/step - loss: 0.3652 - mse: 0.8728\n",
      "Epoch 9/10\n",
      "1/1 [==============================] - 0s 1ms/step - loss: 0.0548 - mse: 0.8587\n",
      "Epoch 10/10\n",
      "1/1 [==============================] - 0s 985us/step - loss: 1.7668 - mse: 0.8575\n"
     ]
    },
    {
     "data": {
      "text/plain": [
       "(<tf.Variable 'variable_a:0' shape=(1, 1) dtype=float32, numpy=array([[2.9675486]], dtype=float32)>,\n",
       " <tf.Variable 'variable_b:0' shape=(1,) dtype=float32, numpy=array([0.9078079], dtype=float32)>)"
      ]
     },
     "execution_count": 49,
     "metadata": {},
     "output_type": "execute_result"
    }
   ],
   "source": [
    "idx_simpled = np.random.choice(np.arange(100), 10)\n",
    "\n",
    "X_train = x[idx_simpled]\n",
    "y_train = y_noise[idx_simpled]\n",
    "\n",
    "model.fit(X_train, y_train, epochs=10, batch_size=10)\n",
    "model.layers[0].a, model.layers[0].b"
   ]
  },
  {
   "cell_type": "code",
   "execution_count": null,
   "metadata": {},
   "outputs": [],
   "source": []
  }
 ],
 "metadata": {
  "kernelspec": {
   "display_name": "Python 3",
   "language": "python",
   "name": "python3"
  },
  "language_info": {
   "codemirror_mode": {
    "name": "ipython",
    "version": 3
   },
   "file_extension": ".py",
   "mimetype": "text/x-python",
   "name": "python",
   "nbconvert_exporter": "python",
   "pygments_lexer": "ipython3",
   "version": "3.6.12"
  }
 },
 "nbformat": 4,
 "nbformat_minor": 4
}
